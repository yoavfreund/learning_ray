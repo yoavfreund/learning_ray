{
 "cells": [
  {
   "cell_type": "code",
   "execution_count": 1,
   "id": "d57896a6",
   "metadata": {},
   "outputs": [
    {
     "data": {
      "text/plain": [
       "{'node_ip_address': '127.0.0.1',\n",
       " 'raylet_ip_address': '127.0.0.1',\n",
       " 'redis_address': None,\n",
       " 'object_store_address': '/tmp/ray/session_2022-03-22_10-50-25_828518_24824/sockets/plasma_store',\n",
       " 'raylet_socket_name': '/tmp/ray/session_2022-03-22_10-50-25_828518_24824/sockets/raylet',\n",
       " 'webui_url': None,\n",
       " 'session_dir': '/tmp/ray/session_2022-03-22_10-50-25_828518_24824',\n",
       " 'metrics_export_port': 61529,\n",
       " 'gcs_address': '127.0.0.1:63756',\n",
       " 'address': '127.0.0.1:63756',\n",
       " 'node_id': 'e7d7d21bf9ce52c28fe0908b018c4cd9f22883d10a901870d3d4f608'}"
      ]
     },
     "execution_count": 1,
     "metadata": {},
     "output_type": "execute_result"
    }
   ],
   "source": [
    "import ray\n",
    "from ray.util.queue import Queue\n",
    "\n",
    "ray.init()"
   ]
  },
  {
   "cell_type": "code",
   "execution_count": 8,
   "id": "0939defe",
   "metadata": {},
   "outputs": [
    {
     "name": "stdout",
     "output_type": "stream",
     "text": [
      "\u001b[2m\u001b[36m(producer pid=24861)\u001b[0m producer 2 put (2, 0)\n",
      "\u001b[2m\u001b[36m(producer pid=32994)\u001b[0m producer 1 put (1, 0)\n",
      "\u001b[2m\u001b[36m(producer pid=32992)\u001b[0m producer 0 put (0, 0)\n",
      "\u001b[2m\u001b[36m(consumer pid=24862)\u001b[0m Consumer 1 got work (0, 0)\n",
      "\u001b[2m\u001b[36m(consumer pid=24860)\u001b[0m Consumer 0 got work (1, 0)\n",
      "\u001b[2m\u001b[36m(producer pid=24861)\u001b[0m producer 2 put (2, 1)\n",
      "\u001b[2m\u001b[36m(producer pid=32994)\u001b[0m producer 1 put (1, 1)\n",
      "\u001b[2m\u001b[36m(producer pid=32992)\u001b[0m producer 0 put (0, 1)\n",
      "\u001b[2m\u001b[36m(consumer pid=24862)\u001b[0m Consumer 1 got work (2, 0)\n",
      "\u001b[2m\u001b[36m(consumer pid=24860)\u001b[0m Consumer 0 got work (0, 1)\n",
      "\u001b[2m\u001b[36m(producer pid=24861)\u001b[0m producer 2 put (2, 2)\n",
      "\u001b[2m\u001b[36m(producer pid=32994)\u001b[0m producer 1 put (1, 2)\n",
      "\u001b[2m\u001b[36m(producer pid=32992)\u001b[0m producer 0 put (0, 2)\n",
      "\u001b[2m\u001b[36m(consumer pid=24862)\u001b[0m Consumer 1 got work (2, 1)\n",
      "\u001b[2m\u001b[36m(consumer pid=24860)\u001b[0m Consumer 0 got work (1, 1)\n",
      "\u001b[2m\u001b[36m(producer pid=24861)\u001b[0m producer 2 put (2, 3)\n",
      "\u001b[2m\u001b[36m(producer pid=32994)\u001b[0m producer 1 put (1, 3)\n",
      "\u001b[2m\u001b[36m(producer pid=32992)\u001b[0m producer 0 put (0, 3)\n",
      "\u001b[2m\u001b[36m(consumer pid=24862)\u001b[0m Consumer 1 got work (1, 2)\n",
      "\u001b[2m\u001b[36m(consumer pid=24860)\u001b[0m Consumer 0 got work (0, 2)\n",
      "\u001b[2m\u001b[36m(consumer pid=24862)\u001b[0m Consumer 1 got work (0, 3)\n",
      "\u001b[2m\u001b[36m(consumer pid=24860)\u001b[0m Consumer 0 got work (2, 2)\n",
      "\u001b[2m\u001b[36m(consumer pid=24862)\u001b[0m Consumer 1 got work (2, 3)\n",
      "\u001b[2m\u001b[36m(consumer pid=24860)\u001b[0m Consumer 0 got work (1, 3)\n"
     ]
    }
   ],
   "source": [
    "# You can pass this object around to different tasks/actors\n",
    "queue = Queue(maxsize=100)\n",
    "import time\n",
    "\n",
    "@ray.remote\n",
    "def consumer(queue,i):\n",
    "    while queue.empty():\n",
    "        1\n",
    "    while not queue.empty():\n",
    "        time.sleep(0.1)\n",
    "        try:\n",
    "            next_item = queue.get(block=False)\n",
    "            print(f\"Consumer {i} got work {next_item}\")\n",
    "        except Empty:\n",
    "            print('Queue for process %d is empty'%i)\n",
    "\n",
    "@ray.remote\n",
    "def producer(queue,i):\n",
    "    j=0\n",
    "    while not queue.full():\n",
    "        time.sleep(0.1)\n",
    "        try:\n",
    "            item=(i,j)\n",
    "            j+=1\n",
    "            if j>4:\n",
    "                break\n",
    "            queue.put(item,block=True)\n",
    "            print(f\"producer {i} put {item}\")\n",
    "        except full:\n",
    "            print('Queue for producer %d is full (should not happen because of block)'%i)\n",
    "\n",
    "producers = [producer.remote(queue,i) for i in range(3)]\n",
    "\n",
    "consumers = [consumer.remote(queue,i) for i in range(2)]"
   ]
  },
  {
   "cell_type": "code",
   "execution_count": null,
   "id": "e9287d7a",
   "metadata": {},
   "outputs": [],
   "source": []
  }
 ],
 "metadata": {
  "kernelspec": {
   "display_name": "Python 3 (ipykernel)",
   "language": "python",
   "name": "python3"
  },
  "language_info": {
   "codemirror_mode": {
    "name": "ipython",
    "version": 3
   },
   "file_extension": ".py",
   "mimetype": "text/x-python",
   "name": "python",
   "nbconvert_exporter": "python",
   "pygments_lexer": "ipython3",
   "version": "3.9.6"
  }
 },
 "nbformat": 4,
 "nbformat_minor": 5
}
